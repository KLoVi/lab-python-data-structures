{
 "cells": [
  {
   "cell_type": "markdown",
   "metadata": {
    "tags": []
   },
   "source": [
    "# Lab | Data Structures "
   ]
  },
  {
   "cell_type": "markdown",
   "metadata": {},
   "source": [
    "## Exercise: Managing Customer Orders\n",
    "\n",
    "As part of a business venture, you are starting an online store that sells various products. To ensure smooth operations, you need to develop a program that manages customer orders and inventory.\n",
    "\n",
    "Follow the steps below to complete the exercise:\n",
    "\n",
    "1. Define a list called `products` that contains the following items: \"t-shirt\", \"mug\", \"hat\", \"book\", \"keychain\".\n",
    "\n",
    "2. Create an empty dictionary called `inventory`.\n",
    "\n",
    "3. Ask the user to input the quantity of each product available in the inventory. Use the product names from the `products` list as keys in the `inventory` dictionary and assign the respective quantities as values.\n",
    "\n",
    "4. Create an empty set called `customer_orders`.\n",
    "\n",
    "5. Ask the user to input the name of three products that a customer wants to order (from those in the products list, meaning three products out of \"t-shirt\", \"mug\", \"hat\", \"book\" or \"keychain\". Add each product name to the `customer_orders` set.\n",
    "\n",
    "6. Print the products in the `customer_orders` set.\n",
    "\n",
    "7. Calculate the following order statistics:\n",
    "   - Total Products Ordered: The total number of products in the `customer_orders` set.\n",
    "   - Percentage of Products Ordered: The percentage of products ordered compared to the total available products.\n",
    "   \n",
    "   Store these statistics in a tuple called `order_status`.\n",
    "\n",
    "8. Print the order statistics using the following format:\n",
    "   ```\n",
    "   Order Statistics:\n",
    "   Total Products Ordered: <total_products_ordered>\n",
    "   Percentage of Products Ordered: <percentage_ordered>% \n",
    "   ```\n",
    "\n",
    "9. Update the inventory by subtracting 1 from the quantity of each product. Modify the `inventory` dictionary accordingly.\n",
    "\n",
    "10. Print the updated inventory, displaying the quantity of each product on separate lines.\n",
    "\n",
    "Solve the exercise by implementing the steps using the Python concepts of lists, dictionaries, sets, and basic input/output operations. "
   ]
  },
  {
   "cell_type": "code",
   "execution_count": 169,
   "metadata": {},
   "outputs": [],
   "source": [
    "products = [\"t-shirt\", \"mug\", \"hat\", \"book\", \"keychain\"]"
   ]
  },
  {
   "cell_type": "code",
   "execution_count": 170,
   "metadata": {},
   "outputs": [],
   "source": [
    "inventory = { }"
   ]
  },
  {
   "cell_type": "code",
   "execution_count": 172,
   "metadata": {
    "scrolled": false
   },
   "outputs": [
    {
     "name": "stdout",
     "output_type": "stream",
     "text": [
      "t-shirt\n",
      "Please write the quantity available in the inventory: 50\n",
      "mug\n",
      "Please write the quantity available in the inventory: 40\n",
      "hat\n",
      "Please write the quantity available in the inventory: 30\n",
      "book\n",
      "Please write the quantity available in the inventory: 20\n",
      "keychain\n",
      "Please write the quantity available in the inventory: 10\n",
      "{'t-shirt': 50, 'mug': 40, 'hat': 30, 'book': 20, 'keychain': 10}\n"
     ]
    }
   ],
   "source": [
    "for item in products:\n",
    "    print (item)\n",
    "    available_inventory = int(input(\"Please write the quantity available in the inventory: \"))\n",
    "    inventory[item] = available_inventory\n",
    "print(inventory)"
   ]
  },
  {
   "cell_type": "code",
   "execution_count": 173,
   "metadata": {},
   "outputs": [
    {
     "name": "stdout",
     "output_type": "stream",
     "text": [
      "150\n"
     ]
    }
   ],
   "source": [
    "sum = 0\n",
    "for value in inventory.values():\n",
    "    sum += value\n",
    "    \n",
    "print(sum)"
   ]
  },
  {
   "cell_type": "code",
   "execution_count": 174,
   "metadata": {
    "scrolled": true
   },
   "outputs": [
    {
     "name": "stdout",
     "output_type": "stream",
     "text": [
      "Please write the product 1/3 you want to order t-shirt, mug, hat, book or keychain: mug\n",
      "Please write the product 2/3 you want to order t-shirt, mug, hat, book or keychain: hat\n",
      "Please write the product 3/3 you want to order t-shirt, mug, hat, book or keychain: book\n"
     ]
    }
   ],
   "source": [
    "product_1 = input(\"Please write the product 1/3 you want to order t-shirt, mug, hat, book or keychain: \")\n",
    "product_2 = input(\"Please write the product 2/3 you want to order t-shirt, mug, hat, book or keychain: \")\n",
    "product_3 = input(\"Please write the product 3/3 you want to order t-shirt, mug, hat, book or keychain: \")\n"
   ]
  },
  {
   "cell_type": "code",
   "execution_count": 175,
   "metadata": {},
   "outputs": [
    {
     "name": "stdout",
     "output_type": "stream",
     "text": [
      "{'hat', 'mug', 'book'}\n",
      "<class 'set'>\n"
     ]
    }
   ],
   "source": [
    "customer_orders = {product_1, product_2, product_3}\n",
    "print(customer_orders)\n",
    "print(type(customer_orders))"
   ]
  },
  {
   "cell_type": "code",
   "execution_count": 176,
   "metadata": {},
   "outputs": [
    {
     "name": "stdout",
     "output_type": "stream",
     "text": [
      "Total products ordered: 3\n"
     ]
    }
   ],
   "source": [
    "Total_products = len(customer_orders)\n",
    "print(f\"Total products ordered: {Total_products}\")"
   ]
  },
  {
   "cell_type": "code",
   "execution_count": 177,
   "metadata": {},
   "outputs": [
    {
     "name": "stdout",
     "output_type": "stream",
     "text": [
      "The mug has 40 units available\n",
      "It means the 2.5 % of the existing inventory\n"
     ]
    }
   ],
   "source": [
    "print(f\"The {product_1} has {inventory[product_1]} units available\")\n",
    "Percentage_Prod_1 = round( 1 / inventory[product_1] * 100 ,2)\n",
    "print(f\"It means the {Percentage_Prod_1} % of the existing inventory\")"
   ]
  },
  {
   "cell_type": "code",
   "execution_count": 178,
   "metadata": {},
   "outputs": [
    {
     "name": "stdout",
     "output_type": "stream",
     "text": [
      "The hat has 30 units available\n",
      "It means the 3.33 % of the existing inventory\n"
     ]
    }
   ],
   "source": [
    "print(f\"The {product_2} has {inventory[product_2]} units available\")\n",
    "Percentage_Prod_2 = round( 1 / inventory[product_2] * 100 ,2)\n",
    "print(f\"It means the {Percentage_Prod_2} % of the existing inventory\")"
   ]
  },
  {
   "cell_type": "code",
   "execution_count": 179,
   "metadata": {},
   "outputs": [
    {
     "name": "stdout",
     "output_type": "stream",
     "text": [
      "The book has 20 units available\n",
      "It means the 5.0 % of the existing inventory\n"
     ]
    }
   ],
   "source": [
    "print(f\"The {product_3} has {inventory[product_3]} units available\")\n",
    "Percentage_Prod_3 = round( 1 / inventory[product_3] * 100 ,2)\n",
    "print(f\"It means the {Percentage_Prod_3} % of the existing inventory\")"
   ]
  },
  {
   "cell_type": "code",
   "execution_count": 180,
   "metadata": {},
   "outputs": [],
   "source": [
    "order_status = (Total_products, Percentage_Prod_1, Percentage_Prod_2, Percentage_Prod_3)"
   ]
  },
  {
   "cell_type": "code",
   "execution_count": 181,
   "metadata": {},
   "outputs": [
    {
     "name": "stdout",
     "output_type": "stream",
     "text": [
      "(3, 2.5, 3.33, 5.0)\n",
      "<class 'tuple'>\n"
     ]
    }
   ],
   "source": [
    "print(order_status)\n",
    "print(type(order_status))"
   ]
  },
  {
   "cell_type": "code",
   "execution_count": 182,
   "metadata": {},
   "outputs": [
    {
     "name": "stdout",
     "output_type": "stream",
     "text": [
      "Order Statics for: ('mug', 'hat', 'book')\n",
      "Total Products Ordered: 3\n",
      "Percentage of Products Ordered from total amount of these products inventory: 3.33 %\n"
     ]
    }
   ],
   "source": [
    "print(f\"Order Statics for: {product_1, product_2, product_3}\")\n",
    "print(f\"Total Products Ordered: {Total_products}\")\n",
    "\n",
    "Suma_productos = inventory[product_1] + inventory[product_2] +inventory[product_3]\n",
    "\n",
    "Percentage_prod_ordered_Tot = round( Total_products / Suma_productos * 100 ,2)\n",
    "\n",
    "print(f\"Percentage of Products Ordered from total amount of these products inventory: {Percentage_prod_ordered_Tot} %\")"
   ]
  },
  {
   "cell_type": "code",
   "execution_count": 186,
   "metadata": {},
   "outputs": [
    {
     "name": "stdout",
     "output_type": "stream",
     "text": [
      "Order Statics for: ('mug', 'hat', 'book')\n",
      "Total Products Ordered: 3\n",
      "Percentage of Products Ordered from the Total Inventory: 2.0 %\n"
     ]
    }
   ],
   "source": [
    "print(f\"Order Statics for: {product_1, product_2, product_3}\")\n",
    "print(f\"Total Products Ordered: {Total_products}\")\n",
    "\n",
    "Percentage_Tot = round( Total_products / sum * 100 ,2)\n",
    "\n",
    "print(f\"Percentage of Products Ordered from the Total Inventory: {Percentage_Tot} %\")"
   ]
  },
  {
   "cell_type": "code",
   "execution_count": 187,
   "metadata": {},
   "outputs": [
    {
     "name": "stdout",
     "output_type": "stream",
     "text": [
      "{'t-shirt': 50, 'mug': 39, 'hat': 29, 'book': 19, 'keychain': 10}\n"
     ]
    }
   ],
   "source": [
    "number_rest = 1\n",
    "\n",
    "#new_inventory = {} \n",
    "\n",
    "for value in customer_orders:\n",
    "    inventory[value] -= number_rest\n",
    "\n",
    "print(inventory)"
   ]
  },
  {
   "cell_type": "code",
   "execution_count": 189,
   "metadata": {},
   "outputs": [
    {
     "data": {
      "text/plain": [
       "{'book', 'hat', 'mug'}"
      ]
     },
     "execution_count": 189,
     "metadata": {},
     "output_type": "execute_result"
    }
   ],
   "source": [
    "customer_orders"
   ]
  },
  {
   "cell_type": "code",
   "execution_count": 190,
   "metadata": {},
   "outputs": [
    {
     "name": "stdout",
     "output_type": "stream",
     "text": [
      "('t-shirt', 50)\n",
      "('mug', 39)\n",
      "('hat', 29)\n",
      "('book', 14)\n",
      "('keychain', 10)\n"
     ]
    }
   ],
   "source": [
    "for i in inventory.items():\n",
    "    print(i)"
   ]
  }
 ],
 "metadata": {
  "kernelspec": {
   "display_name": "Python 3 (ipykernel)",
   "language": "python",
   "name": "python3"
  },
  "language_info": {
   "codemirror_mode": {
    "name": "ipython",
    "version": 3
   },
   "file_extension": ".py",
   "mimetype": "text/x-python",
   "name": "python",
   "nbconvert_exporter": "python",
   "pygments_lexer": "ipython3",
   "version": "3.11.7"
  }
 },
 "nbformat": 4,
 "nbformat_minor": 4
}
